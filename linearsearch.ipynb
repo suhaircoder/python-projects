{
 "cells": [
  {
   "cell_type": "code",
   "execution_count": null,
   "id": "3a326bfa-f1f5-4a96-84c9-152d5f91ce81",
   "metadata": {},
   "outputs": [],
   "source": [
    "\n",
    "def linear_liner(arr,n,x):\n",
    " for i in range(0,n):\n",
    "    if (x==arr[i]):\n",
    "     return i\n",
    "    print(i)\n",
    " return -1\n",
    "arr=[4,5,6,7,8,9]\n",
    "n=len(arr)\n",
    "x=8\n",
    "result=linear_liner(arr,n,x)\n",
    "if (result==-1):\n",
    "  print(\"\\n element not found:\")\n",
    "else:\n",
    " print(\"element found in indix: \",result)"
   ]
  },
  {
   "cell_type": "code",
   "execution_count": null,
   "id": "40495f6c-2e23-49c9-a051-14efd67207e4",
   "metadata": {},
   "outputs": [],
   "source": []
  },
  {
   "cell_type": "code",
   "execution_count": null,
   "id": "5cb0a6f0-1272-4661-850c-4d2d060918b6",
   "metadata": {},
   "outputs": [],
   "source": []
  }
 ],
 "metadata": {
  "kernelspec": {
   "display_name": "Python 3 (ipykernel)",
   "language": "python",
   "name": "python3"
  },
  "language_info": {
   "codemirror_mode": {
    "name": "ipython",
    "version": 3
   },
   "file_extension": ".py",
   "mimetype": "text/x-python",
   "name": "python",
   "nbconvert_exporter": "python",
   "pygments_lexer": "ipython3",
   "version": "3.12.4"
  }
 },
 "nbformat": 4,
 "nbformat_minor": 5
}
