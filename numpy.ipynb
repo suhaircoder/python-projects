{
 "cells": [
  {
   "cell_type": "code",
   "execution_count": 5,
   "id": "40755f9b-d1cb-4ed8-817e-03974625e108",
   "metadata": {},
   "outputs": [],
   "source": [
    "#numpy\n",
    "import numpy as np"
   ]
  },
  {
   "cell_type": "code",
   "execution_count": 7,
   "id": "d01a34b5-e222-4d12-826d-dc64d02031a1",
   "metadata": {},
   "outputs": [],
   "source": [
    "n1= np.array([10,20,30])\n"
   ]
  },
  {
   "cell_type": "code",
   "execution_count": 9,
   "id": "8001c10c-d8fe-4e66-b839-df4ed381adca",
   "metadata": {},
   "outputs": [
    {
     "data": {
      "text/plain": [
       "array([10, 20, 30])"
      ]
     },
     "execution_count": 9,
     "metadata": {},
     "output_type": "execute_result"
    }
   ],
   "source": [
    "n1"
   ]
  },
  {
   "cell_type": "code",
   "execution_count": 15,
   "id": "331251b3-e638-4e03-966f-d5632b9f271c",
   "metadata": {},
   "outputs": [
    {
     "data": {
      "text/plain": [
       "numpy.ndarray"
      ]
     },
     "execution_count": 15,
     "metadata": {},
     "output_type": "execute_result"
    }
   ],
   "source": [
    "type(n1)"
   ]
  },
  {
   "cell_type": "code",
   "execution_count": 28,
   "id": "e6874047-4556-4845-ace1-bc1e171fbd0a",
   "metadata": {},
   "outputs": [],
   "source": [
    "n2=np.array([[1,2,3,4,6],[5,6,7,8,9]])"
   ]
  },
  {
   "cell_type": "code",
   "execution_count": 30,
   "id": "4ba579fc-619b-428c-8b1a-e1a471340f1d",
   "metadata": {},
   "outputs": [
    {
     "data": {
      "text/plain": [
       "array([[1, 2, 3, 4, 6],\n",
       "       [5, 6, 7, 8, 9]])"
      ]
     },
     "execution_count": 30,
     "metadata": {},
     "output_type": "execute_result"
    }
   ],
   "source": [
    "n2"
   ]
  },
  {
   "cell_type": "code",
   "execution_count": 32,
   "id": "31cef126-0aa8-4462-8bf7-cc43d301b541",
   "metadata": {},
   "outputs": [],
   "source": [
    "n1=np.zeros((1,2))"
   ]
  },
  {
   "cell_type": "code",
   "execution_count": 34,
   "id": "2132d575-0be5-4682-b3af-f916b074b1ea",
   "metadata": {},
   "outputs": [
    {
     "data": {
      "text/plain": [
       "array([[0., 0.]])"
      ]
     },
     "execution_count": 34,
     "metadata": {},
     "output_type": "execute_result"
    }
   ],
   "source": [
    "n1"
   ]
  },
  {
   "cell_type": "code",
   "execution_count": 36,
   "id": "40e4222e-b5c9-46f6-85b6-f66b0b3360a4",
   "metadata": {},
   "outputs": [
    {
     "data": {
      "text/plain": [
       "array([[0., 0., 0.],\n",
       "       [0., 0., 0.],\n",
       "       [0., 0., 0.]])"
      ]
     },
     "execution_count": 36,
     "metadata": {},
     "output_type": "execute_result"
    }
   ],
   "source": [
    "n2=np.zeros((3,3))\n",
    "n2"
   ]
  },
  {
   "cell_type": "code",
   "execution_count": 38,
   "id": "127e0078-6bba-44d5-9563-8963c9ccd6d8",
   "metadata": {},
   "outputs": [
    {
     "data": {
      "text/plain": [
       "array([[10, 10],\n",
       "       [10, 10]])"
      ]
     },
     "execution_count": 38,
     "metadata": {},
     "output_type": "execute_result"
    }
   ],
   "source": [
    "n3=np.full((2,2),10)\n",
    "n3"
   ]
  },
  {
   "cell_type": "code",
   "execution_count": 49,
   "id": "b55beaf7-d61d-4cea-b398-e6428d894e97",
   "metadata": {},
   "outputs": [
    {
     "data": {
      "text/plain": [
       "array([10, 11, 12, 13, 14, 15, 16, 17, 18, 19])"
      ]
     },
     "execution_count": 49,
     "metadata": {},
     "output_type": "execute_result"
    }
   ],
   "source": [
    "n4=np.arange(10,20)\n",
    "n4"
   ]
  },
  {
   "cell_type": "code",
   "execution_count": 51,
   "id": "4d1c04ea-99b7-4680-ba41-80d8aa97353f",
   "metadata": {},
   "outputs": [
    {
     "data": {
      "text/plain": [
       "array([10, 15, 20, 25, 30, 35, 40, 45, 50])"
      ]
     },
     "execution_count": 51,
     "metadata": {},
     "output_type": "execute_result"
    }
   ],
   "source": [
    "n5=np.arange(10,51,5)\n",
    "n5"
   ]
  },
  {
   "cell_type": "code",
   "execution_count": 53,
   "id": "414e7a17-9173-49b8-88a0-c998d3fed9ac",
   "metadata": {},
   "outputs": [
    {
     "data": {
      "text/plain": [
       "array([ 19, 119, 138,  79, 156])"
      ]
     },
     "execution_count": 53,
     "metadata": {},
     "output_type": "execute_result"
    }
   ],
   "source": [
    "# 5 random numbers \n",
    "n6=np.random.randint(1,200,5)\n",
    "n6"
   ]
  },
  {
   "cell_type": "code",
   "execution_count": 55,
   "id": "d30cb4d8-b854-434f-9174-98f91746ed52",
   "metadata": {},
   "outputs": [
    {
     "data": {
      "text/plain": [
       "(2, 3)"
      ]
     },
     "execution_count": 55,
     "metadata": {},
     "output_type": "execute_result"
    }
   ],
   "source": [
    "n7=np.array([[1,2,3],[5,6,7]])\n",
    "n7.shape"
   ]
  },
  {
   "cell_type": "code",
   "execution_count": 57,
   "id": "cff2e945-e2c5-43b5-9db2-7e32ce9369ac",
   "metadata": {},
   "outputs": [
    {
     "data": {
      "text/plain": [
       "array([[1, 2],\n",
       "       [3, 5],\n",
       "       [6, 7]])"
      ]
     },
     "execution_count": 57,
     "metadata": {},
     "output_type": "execute_result"
    }
   ],
   "source": [
    "n7.shape=(3,2)\n",
    "n7"
   ]
  },
  {
   "cell_type": "code",
   "execution_count": 19,
   "id": "fa80b965-6454-4e46-a1ef-0396b59911e9",
   "metadata": {},
   "outputs": [
    {
     "data": {
      "text/plain": [
       "array([[10, 20, 30, 70],\n",
       "       [40, 50, 60, 70]])"
      ]
     },
     "execution_count": 19,
     "metadata": {},
     "output_type": "execute_result"
    }
   ],
   "source": [
    "n1= np.array([10,20,30,70])\n",
    "n2= np.array([40,50,60,70])\n",
    "\n",
    "np.vstack((n1,n2))\n"
   ]
  },
  {
   "cell_type": "code",
   "execution_count": 13,
   "id": "c1d6b1d6-81de-4b6c-afc9-5151b33ec736",
   "metadata": {},
   "outputs": [
    {
     "data": {
      "text/plain": [
       "array([10, 20, 30, 40, 50, 60])"
      ]
     },
     "execution_count": 13,
     "metadata": {},
     "output_type": "execute_result"
    }
   ],
   "source": [
    "\n",
    "np.hstack((n1,n2))\n",
    "\n"
   ]
  },
  {
   "cell_type": "code",
   "execution_count": 17,
   "id": "241e2f24-4dfe-4764-bd96-aa9bb6841f60",
   "metadata": {},
   "outputs": [
    {
     "data": {
      "text/plain": [
       "array([[10, 40],\n",
       "       [20, 50],\n",
       "       [30, 60]])"
      ]
     },
     "execution_count": 17,
     "metadata": {},
     "output_type": "execute_result"
    }
   ],
   "source": [
    "np.column_stack((n1,n2))"
   ]
  },
  {
   "cell_type": "code",
   "execution_count": 23,
   "id": "55e1bd4a-0a5e-4f4a-9d23-92178957f25e",
   "metadata": {},
   "outputs": [
    {
     "data": {
      "text/plain": [
       "array([70])"
      ]
     },
     "execution_count": 23,
     "metadata": {},
     "output_type": "execute_result"
    }
   ],
   "source": [
    "np.intersect1d(n1,n2)"
   ]
  },
  {
   "cell_type": "code",
   "execution_count": 27,
   "id": "9f69d33d-d95c-4dc7-a8d1-90cec39631e0",
   "metadata": {},
   "outputs": [
    {
     "data": {
      "text/plain": [
       "array([10, 20, 30])"
      ]
     },
     "execution_count": 27,
     "metadata": {},
     "output_type": "execute_result"
    }
   ],
   "source": [
    "np.setdiff1d(n1,n2)"
   ]
  },
  {
   "cell_type": "code",
   "execution_count": 29,
   "id": "c8af5a6d-681c-413e-98e1-4d31e7be054b",
   "metadata": {},
   "outputs": [
    {
     "data": {
      "text/plain": [
       "array([40, 50, 60])"
      ]
     },
     "execution_count": 29,
     "metadata": {},
     "output_type": "execute_result"
    }
   ],
   "source": [
    "np.setdiff1d(n2,n1)"
   ]
  },
  {
   "cell_type": "code",
   "execution_count": 31,
   "id": "06cd96bb-4f1a-4d3b-9a76-0ee69c378a0a",
   "metadata": {},
   "outputs": [],
   "source": [
    "#addintion\n",
    "n1=np.array([20,40])\n",
    "n2=np.array([30,40])"
   ]
  },
  {
   "cell_type": "code",
   "execution_count": 35,
   "id": "a878aea2-501c-44e0-b8ee-d62085a2e74e",
   "metadata": {},
   "outputs": [
    {
     "data": {
      "text/plain": [
       "130"
      ]
     },
     "execution_count": 35,
     "metadata": {},
     "output_type": "execute_result"
    }
   ],
   "source": [
    "np.sum((n1,n2))"
   ]
  },
  {
   "cell_type": "code",
   "execution_count": 37,
   "id": "9497c336-9faa-42fb-a32c-f77abdc8cf16",
   "metadata": {},
   "outputs": [
    {
     "data": {
      "text/plain": [
       "array([50, 80])"
      ]
     },
     "execution_count": 37,
     "metadata": {},
     "output_type": "execute_result"
    }
   ],
   "source": [
    "np.sum((n1,n2),axis= 0)"
   ]
  },
  {
   "cell_type": "code",
   "execution_count": 39,
   "id": "94842fe8-9486-4b92-a67c-926744116685",
   "metadata": {},
   "outputs": [
    {
     "data": {
      "text/plain": [
       "array([60, 70])"
      ]
     },
     "execution_count": 39,
     "metadata": {},
     "output_type": "execute_result"
    }
   ],
   "source": [
    "np.sum((n1,n2),axis=1)"
   ]
  },
  {
   "cell_type": "code",
   "execution_count": 47,
   "id": "78b900db-b5be-4c10-abc2-be3ba20dce5f",
   "metadata": {},
   "outputs": [
    {
     "data": {
      "text/plain": [
       "array([[1, 2, 3],\n",
       "       [5, 6, 7],\n",
       "       [8, 7, 6]])"
      ]
     },
     "execution_count": 47,
     "metadata": {},
     "output_type": "execute_result"
    }
   ],
   "source": [
    "n7=np.array([[1,2,3],[5,6,7],[8,7,6]])\n",
    "n7"
   ]
  },
  {
   "cell_type": "code",
   "execution_count": 45,
   "id": "61908f56-01f6-43ae-8f8a-53032f429990",
   "metadata": {},
   "outputs": [
    {
     "data": {
      "text/plain": [
       "array([2, 6, 7])"
      ]
     },
     "execution_count": 45,
     "metadata": {},
     "output_type": "execute_result"
    }
   ],
   "source": [
    "n7[:,1]"
   ]
  },
  {
   "cell_type": "code",
   "execution_count": 49,
   "id": "e9c4b153-5e1e-4710-9025-c6ac9a878b94",
   "metadata": {},
   "outputs": [
    {
     "data": {
      "text/plain": [
       "array([[1, 5, 8],\n",
       "       [2, 6, 7],\n",
       "       [3, 7, 6]])"
      ]
     },
     "execution_count": 49,
     "metadata": {},
     "output_type": "execute_result"
    }
   ],
   "source": [
    "n7.transpose()"
   ]
  },
  {
   "cell_type": "code",
   "execution_count": 51,
   "id": "4685b98e-3066-4c76-ab1e-0b8dd2bd8785",
   "metadata": {},
   "outputs": [
    {
     "data": {
      "text/plain": [
       "array([[10, 20, 30],\n",
       "       [50, 60, 70],\n",
       "       [80, 70, 60]])"
      ]
     },
     "execution_count": 51,
     "metadata": {},
     "output_type": "execute_result"
    }
   ],
   "source": [
    "n8=np.array([[10,20,30],[50,60,70],[80,70,60]])\n",
    "n8"
   ]
  },
  {
   "cell_type": "code",
   "execution_count": 53,
   "id": "1811e132-3e6c-4863-8d16-535f6b5d3047",
   "metadata": {},
   "outputs": [
    {
     "data": {
      "text/plain": [
       "array([[ 350,  350,  350],\n",
       "       [ 910,  950,  990],\n",
       "       [ 910, 1000, 1090]])"
      ]
     },
     "execution_count": 53,
     "metadata": {},
     "output_type": "execute_result"
    }
   ],
   "source": [
    "n7.dot(n8)"
   ]
  },
  {
   "cell_type": "code",
   "execution_count": 55,
   "id": "183e1dd3-fe20-4a4c-af62-ccc67f3a1130",
   "metadata": {},
   "outputs": [],
   "source": [
    "np.save(\"my_numpy\",n8)"
   ]
  },
  {
   "cell_type": "code",
   "execution_count": 57,
   "id": "3f22cff1-bd97-4e53-8f11-b6d016d29c91",
   "metadata": {},
   "outputs": [
    {
     "data": {
      "text/plain": [
       "array([[10, 20, 30],\n",
       "       [50, 60, 70],\n",
       "       [80, 70, 60]])"
      ]
     },
     "execution_count": 57,
     "metadata": {},
     "output_type": "execute_result"
    }
   ],
   "source": [
    "n1=np.load(\"my_numpy.npy\")\n",
    "n1"
   ]
  },
  {
   "cell_type": "code",
   "execution_count": 3,
   "id": "1e727e96-f9c0-4c8d-981a-8be1113b272d",
   "metadata": {},
   "outputs": [
    {
     "name": "stdout",
     "output_type": "stream",
     "text": [
      "[149.45540618 165.18585841 169.15341551 169.32481314 169.78403246\n",
      " 171.44966316 173.15466367 170.88682251 174.77250946 168.23567721\n",
      " 170.89667491 175.32090213 164.14047634 176.28989244 165.8729183\n",
      " 167.56883898 179.41428428 177.98463042 155.50374148 170.63400092\n",
      " 178.16863601 159.68991044 157.92045272 186.50183141 178.17440188\n",
      " 164.77847712 169.54800939 176.37047742 156.65960617 184.7605867\n",
      " 187.5252951  173.42259965 163.43414929 174.3050986  176.63243506\n",
      " 178.59979728 170.16341795 162.33483017 176.94670594 176.85610555\n",
      " 180.36804657 167.23894097 159.88808958 187.78132056 175.36691748\n",
      " 170.54876362 155.4902483  179.66579606 172.19199715 162.27699813\n",
      " 178.50651828 185.7428739  173.43404011 175.3672936  166.87024545\n",
      " 170.26325672 149.43351152 182.01020675 178.80412359 167.21702003\n",
      " 171.09941987 178.57776803 158.51531553 168.59711883 181.19199204\n",
      " 161.01878039 165.88060547 187.8743068  161.7011281  180.58249086\n",
      " 161.84563398 166.85953037 175.282896   175.78511758 178.31514605\n",
      " 186.65181366 178.59738228 164.5258887  152.23272167 170.07770117\n",
      " 164.12889265 180.2649382  179.86399784 160.36515369 168.59265178\n",
      " 174.56239209 158.5450104  187.0527178  169.12653321 166.22010038\n",
      " 158.01262605 182.59904077 165.32955791 185.63357843 163.06154674\n",
      " 163.16711678 169.85023651 169.98842882 186.41840085 171.32705179\n",
      " 177.56867624 169.32949829 161.59722472 190.7544238  187.5360679\n",
      " 192.4258431  180.0973213  167.32761267 172.53208531 169.3625669\n",
      " 167.67193588 167.82121705 155.59222606 164.16365653 188.04895641\n",
      " 166.23763678 182.6690232  157.10943479 154.70868712 176.37352701\n",
      " 168.88225198 173.68233791 172.45259658 168.89894401 161.51557212\n",
      " 155.33474803 175.16594551 168.91470743 153.6293823  173.6116319\n",
      " 169.43705911 176.43211858 167.89357216 169.48428565 197.56263\n",
      " 163.18111916 174.60792848 158.75610428 172.24358225 186.95070955\n",
      " 141.66720724 184.23884626 158.81057745 186.68715332 153.87528639\n",
      " 181.32616091 180.18924841 159.47533365 171.17828221 167.92849506\n",
      " 155.71191115 156.51314942 177.80679215 163.92938406 175.9915557\n",
      " 172.81513769 172.7038942  173.508847   173.3622988  178.42832105\n",
      " 156.02685725 162.51472576 168.27693441 165.98612164 165.42961396\n",
      " 180.09498055 186.33639291 173.7776272  168.93608832 156.43228727\n",
      " 167.95088921 156.36354166 159.63322466 168.92805385 186.96588272\n",
      " 167.2444235  166.40451977 178.33356655 155.74387312 171.48220673\n",
      " 164.17500525 163.84952149 182.76399349 180.43116201 182.4279752\n",
      " 192.18683836 200.08732617 178.21575864 159.99793936 166.05753246\n",
      " 167.74460287 162.47864909 164.11167878 161.30295659 177.62003468\n",
      " 157.45990724 149.23686691 174.97229965 162.27592001 162.40693634\n",
      " 174.49066365 168.4938989  175.15833406 180.68423751 170.48734587\n",
      " 168.76348858 168.13198809 163.96006235 168.64868417 172.56967103\n",
      " 177.02183049 162.17871199 176.12681352 170.07979007 171.25292316\n",
      " 173.60983583 152.45929266 168.54249265 162.66102362 184.72764315\n",
      " 170.86607071 167.95933964 179.97457818 168.71995131 173.48124227\n",
      " 166.29899745 164.16925205 173.4758984  176.7741762  162.83506959\n",
      " 170.35988323 166.29455111 167.53827384 163.48926984 163.48560694\n",
      " 172.11237587 178.54576642 156.92636453 156.42611886 182.48322029\n",
      " 170.88191079 178.7938744  161.0421413  195.9780415  173.57193912\n",
      " 181.15558996 163.50380351 157.7468225  171.1772891  157.47463294]\n"
     ]
    }
   ],
   "source": [
    "import numpy as np\n",
    "\n",
    "x = np.random.normal(170, 10, 250)\n",
    "\n",
    "print(x)"
   ]
  },
  {
   "cell_type": "code",
   "execution_count": 5,
   "id": "da32f186-a415-4ee6-ab39-fea4dce68dbc",
   "metadata": {},
   "outputs": [
    {
     "name": "stdout",
     "output_type": "stream",
     "text": [
      "[-4.  3.]\n"
     ]
    }
   ],
   "source": [
    "import numpy as np\n",
    "\n",
    "arr = np.floor([-3.1666, 3.6667])\n",
    "\n",
    "print(arr)"
   ]
  },
  {
   "cell_type": "code",
   "execution_count": 7,
   "id": "f8f668eb-8c04-4ca7-888f-58e5cb955d1b",
   "metadata": {},
   "outputs": [
    {
     "name": "stdout",
     "output_type": "stream",
     "text": [
      "2520\n"
     ]
    }
   ],
   "source": [
    "import numpy as np\n",
    "\n",
    "arr = np.arange(1, 11)\n",
    "\n",
    "x = np.lcm.reduce(arr)\n",
    "\n",
    "print(x)"
   ]
  },
  {
   "cell_type": "code",
   "execution_count": 5,
   "id": "9317023b-28a4-4355-acf4-ceb92cfc2590",
   "metadata": {},
   "outputs": [
    {
     "data": {
      "text/plain": [
       "array([1, 2])"
      ]
     },
     "execution_count": 5,
     "metadata": {},
     "output_type": "execute_result"
    }
   ],
   "source": [
    "import numpy as np\n",
    "X=np.array([[1,0,1],[2,2,2]]) \n",
    "\n",
    "out=X[0:2,2]\n",
    "out"
   ]
  },
  {
   "cell_type": "code",
   "execution_count": 11,
   "id": "60ff33fa-50c5-4542-8e42-202ab2f96d54",
   "metadata": {},
   "outputs": [
    {
     "data": {
      "text/plain": [
       "array([[2, 1],\n",
       "       [1, 2]])"
      ]
     },
     "execution_count": 11,
     "metadata": {},
     "output_type": "execute_result"
    }
   ],
   "source": [
    "X=np.array([[1,0],[0,1]]) \n",
    "\n",
    "Y=np.array([[2,1],[1,2]]) \n",
    "\n",
    "Z=np.dot(X,Y) \n",
    "Z"
   ]
  },
  {
   "cell_type": "code",
   "execution_count": null,
   "id": "010ebe98-db56-468d-80d7-1cd58009ce13",
   "metadata": {},
   "outputs": [],
   "source": []
  }
 ],
 "metadata": {
  "kernelspec": {
   "display_name": "Python 3 (ipykernel)",
   "language": "python",
   "name": "python3"
  },
  "language_info": {
   "codemirror_mode": {
    "name": "ipython",
    "version": 3
   },
   "file_extension": ".py",
   "mimetype": "text/x-python",
   "name": "python",
   "nbconvert_exporter": "python",
   "pygments_lexer": "ipython3",
   "version": "3.12.4"
  }
 },
 "nbformat": 4,
 "nbformat_minor": 5
}
