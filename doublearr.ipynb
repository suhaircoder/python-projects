{
 "cells": [
  {
   "cell_type": "code",
   "execution_count": 9,
   "id": "9becb6bd-ac8b-40cc-872a-5d6c274e327d",
   "metadata": {},
   "outputs": [
    {
     "name": "stdin",
     "output_type": "stream",
     "text": [
      "enter the value of rows: 2\n",
      "enter the value of colms: 3\n"
     ]
    },
    {
     "name": "stdout",
     "output_type": "stream",
     "text": [
      "[[0, 0, 0], [0, 1, 2]]\n"
     ]
    }
   ],
   "source": [
    "arr1=int(input(\"enter the value of rows:\"))\n",
    "arr2=int(input(\"enter the value of colms:\"))\n",
    "twodarr=[[0 for col in range(arr2)] for row in range(arr1)]\n",
    "for row in  range(arr1):\n",
    "    for col in range(arr2) :\n",
    "        twodarr[row][col]=row*col\n",
    "print( twodarr )       \n"
   ]
  },
  {
   "cell_type": "code",
   "execution_count": null,
   "id": "60c7318c-b7ab-483d-9219-54433a63a9a8",
   "metadata": {},
   "outputs": [],
   "source": []
  },
  {
   "cell_type": "code",
   "execution_count": 121,
   "id": "946a1f50-befd-45c9-b4d1-16c35a31fcfe",
   "metadata": {},
   "outputs": [
    {
     "name": "stdout",
     "output_type": "stream",
     "text": [
      "enter the size of array:\n"
     ]
    },
    {
     "name": "stdin",
     "output_type": "stream",
     "text": [
      " 4\n",
      " 1\n",
      " 2\n",
      " 3\n",
      " 5\n"
     ]
    },
    {
     "name": "stdout",
     "output_type": "stream",
     "text": [
      "\n",
      "enter the value you want to delen"
     ]
    },
    {
     "name": "stdin",
     "output_type": "stream",
     "text": [
      " 2\n"
     ]
    },
    {
     "name": "stdout",
     "output_type": "stream",
     "text": [
      "\n",
      " the array is :\n",
      "1 3 5 "
     ]
    }
   ],
   "source": [
    "print(\"enter the size of array:\")\n",
    "a=int(input())\n",
    "arr=[]\n",
    "for i in range(a):\n",
    "    arr.append(input())\n",
    "print(end=\"\\nenter the value you want to delete\")\n",
    "val=input()\n",
    "if val in arr:\n",
    "     arr.remove(val)\n",
    "     print(\"\\n the array is :\")\n",
    "     for i in range(a-1):\n",
    "       print(end=arr[i]+\" \")\n",
    "else:\n",
    "    print(\"element does not exist the array:\")\n",
    "   \n",
    "      "
   ]
  },
  {
   "cell_type": "code",
   "execution_count": 135,
   "id": "5167ac48-246d-41b2-bc28-1d84fbfa0124",
   "metadata": {},
   "outputs": [
    {
     "name": "stdout",
     "output_type": "stream",
     "text": [
      "the value of the array is :\n",
      "10 60 3 7 90 67 \n",
      "the array after sorting:\n",
      "3 7 10 60 67 90 "
     ]
    }
   ],
   "source": [
    "arr=[10,60,3,7,90,67]\n",
    "print(\"the value of the array is :\")\n",
    "for i in range(0,len(arr)):\n",
    "    print(arr[i],end=\" \")\n",
    "#sort array\n",
    "for i in range(0,len(arr)):\n",
    "  for j in range (i+1,len(arr)):\n",
    "      if (arr[i]>arr[j]):\n",
    "         tem=arr[i]\n",
    "         arr[i]=arr[j]\n",
    "         arr[j]=tem\n",
    "print()\n",
    "print(\"the array after sorting:\")\n",
    "for i in range(0,len(arr)):\n",
    "    print(arr[i],end=\" \")\n",
    "      "
   ]
  },
  {
   "cell_type": "code",
   "execution_count": 137,
   "id": "fbe624c4-93bf-47f2-bc0a-bb80c0a56167",
   "metadata": {},
   "outputs": [
    {
     "name": "stdout",
     "output_type": "stream",
     "text": [
      "1\n",
      "2\n",
      "3\n",
      "1\n",
      "2\n",
      "the index of 1st 2: 1\n",
      "the index of 2st 1: 0\n"
     ]
    }
   ],
   "source": [
    "arr=[1,2,3,1,2]\n",
    "for i in range (0,5):\n",
    "    print(arr[i])\n",
    "print(\"the index of 1st 2:\",end=\" \")\n",
    "print(arr.index(2))\n",
    "print(\"the index of 2st 1:\",end=\" \")\n",
    "print(arr.index(1))"
   ]
  },
  {
   "cell_type": "code",
   "execution_count": null,
   "id": "d2d1fdb4-c22d-4cda-a355-6041abf5a31d",
   "metadata": {},
   "outputs": [],
   "source": []
  },
  {
   "cell_type": "code",
   "execution_count": null,
   "id": "05520962-487c-4199-bbde-ddb7331f5f5c",
   "metadata": {},
   "outputs": [],
   "source": []
  }
 ],
 "metadata": {
  "kernelspec": {
   "display_name": "Python 3 (ipykernel)",
   "language": "python",
   "name": "python3"
  },
  "language_info": {
   "codemirror_mode": {
    "name": "ipython",
    "version": 3
   },
   "file_extension": ".py",
   "mimetype": "text/x-python",
   "name": "python",
   "nbconvert_exporter": "python",
   "pygments_lexer": "ipython3",
   "version": "3.12.4"
  }
 },
 "nbformat": 4,
 "nbformat_minor": 5
}
