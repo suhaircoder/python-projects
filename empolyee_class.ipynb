{
 "cells": [
  {
   "cell_type": "code",
   "execution_count": 17,
   "id": "caac5d04-9988-414b-9437-71f1a25d758b",
   "metadata": {},
   "outputs": [],
   "source": [
    "class Employee:\n",
    " def __init__(self,name,age,salary,gender):\n",
    "    self.name=name\n",
    "    self.age=age\n",
    "    self.salary=salary\n",
    "    self.gender=gender\n",
    " def show_details(self):\n",
    "    print(\"name of the employee is:\",self.name)\n",
    "    print(\"age of the employee is :\",self.age)\n",
    "    print(\"salary of the employee is :\",self.salary)\n",
    "    print(\"gender of the employee is:\",self.gender)"
   ]
  },
  {
   "cell_type": "code",
   "execution_count": 21,
   "id": "56efbaf7-4d99-47bd-8de5-2965af931415",
   "metadata": {},
   "outputs": [],
   "source": [
    "p1=Employee(\"ahmed\",20,1000,\"male\")\n"
   ]
  },
  {
   "cell_type": "code",
   "execution_count": 23,
   "id": "bf841211-74be-40a2-be84-364fc34fa35b",
   "metadata": {},
   "outputs": [
    {
     "name": "stdout",
     "output_type": "stream",
     "text": [
      "name of the employee is: ahmed\n",
      "age of the employee is : 20\n",
      "salary of the employee is : 1000\n",
      "gender of the employee is: male\n"
     ]
    }
   ],
   "source": [
    "p1.show_details()"
   ]
  },
  {
   "cell_type": "code",
   "execution_count": 71,
   "id": "a718142c-e13d-4e2d-896a-a7a9db0ffb35",
   "metadata": {},
   "outputs": [],
   "source": [
    "class Student(Employee):\n",
    "    def __init__(self,name,age,salary,gender,university):\n",
    "         super().__init__(name,age,salary,gender)\n",
    "         self.university=university\n",
    "    def show_student_details(self):\n",
    "      print(\"name of the student university is:\",self.university)  \n",
    "      print(\"i am student\")"
   ]
  },
  {
   "cell_type": "code",
   "execution_count": 77,
   "id": "87630ca3-69ba-4d01-8d17-9e22fc37b489",
   "metadata": {},
   "outputs": [],
   "source": [
    "p2=Student(\"amal\",30,1400,\"female\",\"gfh\")"
   ]
  },
  {
   "cell_type": "code",
   "execution_count": 79,
   "id": "2fc64d0e-9f90-4bb9-87b1-ba30c3529bc3",
   "metadata": {},
   "outputs": [
    {
     "name": "stdout",
     "output_type": "stream",
     "text": [
      "name of the employee is: amal\n",
      "age of the employee is : 30\n",
      "salary of the employee is : 1400\n",
      "gender of the employee is: female\n"
     ]
    }
   ],
   "source": [
    "p2.show_details()"
   ]
  },
  {
   "cell_type": "code",
   "execution_count": 83,
   "id": "543f31d6-8604-4a96-bf01-304cd54b70cf",
   "metadata": {},
   "outputs": [
    {
     "name": "stdout",
     "output_type": "stream",
     "text": [
      "name of the student university is: gfh\n",
      "i am student\n"
     ]
    }
   ],
   "source": [
    "p2.show_student_details()"
   ]
  },
  {
   "cell_type": "code",
   "execution_count": null,
   "id": "989b1c41-1acf-4295-84f4-59a02d03cdad",
   "metadata": {},
   "outputs": [],
   "source": []
  }
 ],
 "metadata": {
  "kernelspec": {
   "display_name": "Python 3 (ipykernel)",
   "language": "python",
   "name": "python3"
  },
  "language_info": {
   "codemirror_mode": {
    "name": "ipython",
    "version": 3
   },
   "file_extension": ".py",
   "mimetype": "text/x-python",
   "name": "python",
   "nbconvert_exporter": "python",
   "pygments_lexer": "ipython3",
   "version": "3.12.4"
  }
 },
 "nbformat": 4,
 "nbformat_minor": 5
}
